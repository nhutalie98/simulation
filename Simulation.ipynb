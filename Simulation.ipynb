{
  "nbformat": 4,
  "nbformat_minor": 0,
  "metadata": {
    "colab": {
      "name": "Simulation.ipynb",
      "provenance": []
    },
    "kernelspec": {
      "name": "python3",
      "display_name": "Python 3"
    }
  },
  "cells": [
    {
      "cell_type": "code",
      "metadata": {
        "id": "hp2uQUlmITnQ"
      },
      "source": [
        "import random as rd\n",
        "import numpy as np\n",
        "import matplotlib.pyplot as plt"
      ],
      "execution_count": null,
      "outputs": []
    },
    {
      "cell_type": "code",
      "metadata": {
        "id": "sg0Z1IREIWXA"
      },
      "source": [
        "# input parameters\n",
        "demand = range(50, 151)\n",
        "demand_min = 50\n",
        "demand_max =150\n",
        "sell_price = 15\n",
        "sell_price_discnt = 5\n",
        "buy_price = 12\n",
        "buy_price_discnt = 10\n",
        "threshold = 100\n",
        "avg_profit_list = list()"
      ],
      "execution_count": null,
      "outputs": []
    },
    {
      "cell_type": "code",
      "metadata": {
        "id": "RlbJzXVdIext"
      },
      "source": [
        "# a Simulation model\n",
        "trials = 1000\n",
        "for d in demand:\n",
        "  profit_list = list() \n",
        "  for i in range(trials):\n",
        "    order = rd.uniform(demand_min,demand_max)\n",
        "    if d <= threshold: cost = buy_price * d\n",
        "    else: cost = buy_price_discnt * d\n",
        "    \n",
        "    sales = min(d,order)\n",
        "    revenue = sales * sell_price\n",
        "\n",
        "    left = d - sales\n",
        "    salvage_rev = left * sell_price_discnt\n",
        "    \n",
        "    profit = revenue + salvage_rev - cost\n",
        "    profit_list.append(profit)\n",
        "  avg_profit = sum(profit_list)/len(profit_list)\n",
        "  avg_profit_list.append(avg_profit)\n",
        " \n",
        "\n"
      ],
      "execution_count": null,
      "outputs": []
    },
    {
      "cell_type": "code",
      "metadata": {
        "colab": {
          "base_uri": "https://localhost:8080/",
          "height": 283
        },
        "id": "L6KX7vD3dGH9",
        "outputId": "a8a28f7b-20d2-4fef-ccc1-ce19417b6792"
      },
      "source": [
        "plt.plot(demand, avg_profit_list)"
      ],
      "execution_count": null,
      "outputs": [
        {
          "output_type": "execute_result",
          "data": {
            "text/plain": [
              "[<matplotlib.lines.Line2D at 0x7fe0d13d8c18>]"
            ]
          },
          "metadata": {
            "tags": []
          },
          "execution_count": 4
        },
        {
          "output_type": "display_data",
          "data": {
            "image/png": "[encoded data removed]",
            "text/plain": [
              "<Figure size 432x288 with 1 Axes>"
            ]
          },
          "metadata": {
            "tags": [],
            "needs_background": "light"
          }
        }
      ]
    },
    {
      "cell_type": "code",
      "metadata": {
        "colab": {
          "base_uri": "https://localhost:8080/",
          "height": 352
        },
        "id": "p3rWjThZg3KC",
        "outputId": "4b465be0-8998-4d99-eb34-c2e4049ff630"
      },
      "source": [
        "plt.hist(avg_profit_list, edgecolor = \"k\")"
      ],
      "execution_count": null,
      "outputs": [
        {
          "output_type": "execute_result",
          "data": {
            "text/plain": [
              "(array([10., 39.,  2.,  0.,  4.,  5.,  8.,  7., 10., 16.]),\n",
              " array([150.        , 173.77269953, 197.54539906, 221.31809859,\n",
              "        245.09079812, 268.86349765, 292.63619718, 316.40889671,\n",
              "        340.18159624, 363.95429577, 387.7269953 ]),\n",
              " <a list of 10 Patch objects>)"
            ]
          },
          "metadata": {
            "tags": []
          },
          "execution_count": 5
        },
        {
          "output_type": "display_data",
          "data": {
            "image/png": "[encoded data removed]",
            "text/plain": [
              "<Figure size 432x288 with 1 Axes>"
            ]
          },
          "metadata": {
            "tags": [],
            "needs_background": "light"
          }
        }
      ]
    },
    {
      "cell_type": "code",
      "metadata": {
        "id": "LBxgufXBhboc"
      },
      "source": [
        "#b using 10000 trials, order = 120\n",
        "new_trial = 10000\n",
        "new_order = 120\n",
        "new_profit = list()\n",
        "\n",
        "for t in range(new_trial):\n",
        "  order = rd.uniform(demand_min,demand_max)\n",
        "  sales = min(new_order,order)\n",
        "  revenue = sales * sell_price\n",
        "  cost = buy_price_discnt * new_order  \n",
        "\n",
        "  left = new_order - sales\n",
        "  salvage_rev = left * sell_price_discnt\n",
        "    \n",
        "  profit = revenue + salvage_rev - cost\n",
        "  new_profit.append(profit)\n",
        "\n",
        "\n"
      ],
      "execution_count": null,
      "outputs": []
    },
    {
      "cell_type": "code",
      "metadata": {
        "colab": {
          "base_uri": "https://localhost:8080/"
        },
        "id": "Ecuklu8Fm2hT",
        "outputId": "8d875f5f-080a-425f-d6f4-2182c3ed1e7e"
      },
      "source": [
        "mean = sum(new_profit)/len(new_profit)\n",
        "print(\"%.2f\"%mean)"
      ],
      "execution_count": null,
      "outputs": [
        {
          "output_type": "stream",
          "text": [
            "356.89\n"
          ],
          "name": "stdout"
        }
      ]
    },
    {
      "cell_type": "code",
      "metadata": {
        "colab": {
          "base_uri": "https://localhost:8080/"
        },
        "id": "Jj9frhBxjwGw",
        "outputId": "80921635-fe8f-4401-a149-2d0b4554766d"
      },
      "source": [
        "sample_stdv = np.std(new_profit)\n",
        "sqrt_n = len(new_profit)**0.5\n",
        "mean_moe = 1.96 * sample_stdv/sqrt_n\n",
        "mean_lcl = mean - mean_moe\n",
        "mean_ucl = mean + mean_moe\n",
        "print(\"The 95%% confidence interval for the mean profit when ordering 120 dozen roses is ( %.2f\"%mean_lcl,\", %.2f\" %mean_ucl,\")\" )"
      ],
      "execution_count": null,
      "outputs": [
        {
          "output_type": "stream",
          "text": [
            "The 95% confidence interval for the mean profit when ordering 120 dozen roses is ( 352.36 , 361.43 )\n"
          ],
          "name": "stdout"
        }
      ]
    },
    {
      "cell_type": "code",
      "metadata": {
        "colab": {
          "base_uri": "https://localhost:8080/"
        },
        "id": "rFKD-UxFkG2d",
        "outputId": "39a202a3-3649-44d7-88c4-2ea9b5959f6b"
      },
      "source": [
        "# c Number of roses Frank order to maximize profit\n",
        "max_profit = avg_profit_list.index(max(avg_profit_list))\n",
        "max_profit_qty = demand[max_profit]\n",
        "print(\"Frank should order\", max_profit_qty, \"dozen roses to maximize average profit.\")\n",
        "print(\"Max average profit is %.2f\" %max(avg_profit_list))"
      ],
      "execution_count": null,
      "outputs": [
        {
          "output_type": "stream",
          "text": [
            "Frank should order 102 dozen roses to maximize average profit.\n",
            "Max average profit is 387.73\n"
          ],
          "name": "stdout"
        }
      ]
    }
  ]
}